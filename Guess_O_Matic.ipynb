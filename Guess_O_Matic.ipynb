{
  "nbformat": 4,
  "nbformat_minor": 0,
  "metadata": {
    "colab": {
      "provenance": [],
      "authorship_tag": "ABX9TyO9nfZRxQUlb90zOy1DjJPX",
      "include_colab_link": true
    },
    "kernelspec": {
      "name": "python3",
      "display_name": "Python 3"
    },
    "language_info": {
      "name": "python"
    }
  },
  "cells": [
    {
      "cell_type": "markdown",
      "metadata": {
        "id": "view-in-github",
        "colab_type": "text"
      },
      "source": [
        "<a href=\"https://colab.research.google.com/github/VishalSharma99/Guess-O-Matic/blob/main/Guess_O_Matic.ipynb\" target=\"_parent\"><img src=\"https://colab.research.google.com/assets/colab-badge.svg\" alt=\"Open In Colab\"/></a>"
      ]
    },
    {
      "cell_type": "code",
      "execution_count": 2,
      "metadata": {
        "colab": {
          "base_uri": "https://localhost:8080/"
        },
        "id": "CeT4MH6RQptQ",
        "outputId": "c94de31b-6a40-460e-b296-1e0a8cd0f679"
      },
      "outputs": [
        {
          "output_type": "stream",
          "name": "stdout",
          "text": [
            "🎮 Welcome to the 2-Player Competitive Crack the Code Game!\n",
            "Enter the length of the secret code (e.g., 4, 5, 6): 4\n",
            "\n",
            "==================================================\n",
            "🔐 Both players will now set their secret codes.\n",
            "==================================================\n",
            "\n",
            "Player 1, enter your secret 4-digit code (can start with 0): 1234\n",
            "✅ Code accepted.\n",
            "--------------------------------------------------\n",
            "Player 2, enter your secret 4-digit code (can start with 0): 0123\n",
            "✅ Code accepted.\n",
            "--------------------------------------------------\n",
            "\n",
            "🕹️ Round 1\n",
            "Player 1, enter your guess (4 digits): 0222\n",
            "📝 Feedback for Player 1: Position 1 is correct (0); Position 3 is correct (2)\n",
            "--------------------------------------------------\n",
            "Player 2, enter your guess (4 digits): 01234\n",
            "❌ Invalid guess. Please enter exactly 4 digits.\n",
            "Player 2, enter your guess (4 digits): 0123\n",
            "❌ No digits matched in the correct position.\n",
            "==================================================\n",
            "\n",
            "🕹️ Round 2\n",
            "Player 1, enter your guess (4 digits): 0123\n",
            "🎉 Player 1 has cracked Player 2's code!\n",
            "🏆 Player 1 wins in 2 rounds!\n"
          ]
        }
      ],
      "source": [
        "def give_feedback(secret_code, guess):\n",
        "    \"\"\"Compare guess to the secret code and return position-based feedback.\"\"\"\n",
        "    feedback = []\n",
        "    for i in range(len(secret_code)):\n",
        "        if guess[i] == secret_code[i]:\n",
        "            feedback.append(f\"Position {i+1} is correct ({guess[i]})\")\n",
        "    return feedback\n",
        "\n",
        "def get_valid_code(player_name, code_length):\n",
        "    while True:\n",
        "        code = input(f\"{player_name}, enter your secret {code_length}-digit code (can start with 0): \")\n",
        "        if len(code) == code_length and code.isdigit():\n",
        "            print(\"✅ Code accepted.\\n\" + \"-\"*50)\n",
        "            return code\n",
        "        else:\n",
        "            print(f\"❌ Invalid code. Please enter exactly {code_length} digits.\")\n",
        "\n",
        "def get_valid_guess(player_name, code_length):\n",
        "    while True:\n",
        "        guess = input(f\"{player_name}, enter your guess ({code_length} digits): \")\n",
        "        if len(guess) == code_length and guess.isdigit():\n",
        "            return guess\n",
        "        else:\n",
        "            print(f\"❌ Invalid guess. Please enter exactly {code_length} digits.\")\n",
        "\n",
        "def main():\n",
        "    print(\"🎮 Welcome to the 2-Player Competitive Crack the Code Game!\")\n",
        "\n",
        "    # Code length setup\n",
        "    while True:\n",
        "        code_length_input = input(\"Enter the length of the secret code (e.g., 4, 5, 6): \")\n",
        "        if code_length_input.isdigit() and int(code_length_input) > 0:\n",
        "            code_length = int(code_length_input)\n",
        "            break\n",
        "        else:\n",
        "            print(\"❌ Please enter a valid positive number.\")\n",
        "\n",
        "    print(\"\\n\" + \"=\"*50)\n",
        "    print(\"🔐 Both players will now set their secret codes.\")\n",
        "    print(\"=\"*50 + \"\\n\")\n",
        "\n",
        "    # Player 1 and 2 set their codes\n",
        "    player1_code = get_valid_code(\"Player 1\", code_length)\n",
        "    player2_code = get_valid_code(\"Player 2\", code_length)\n",
        "\n",
        "    # Start turn-based game\n",
        "    attempts = 0\n",
        "    while True:\n",
        "        attempts += 1\n",
        "        print(f\"\\n🕹️ Round {attempts}\")\n",
        "\n",
        "        # Player 1's turn to guess Player 2's code\n",
        "        guess1 = get_valid_guess(\"Player 1\", code_length)\n",
        "        if guess1 == player2_code:\n",
        "            print(\"🎉 Player 1 has cracked Player 2's code!\")\n",
        "            print(f\"🏆 Player 1 wins in {attempts} rounds!\")\n",
        "            break\n",
        "        else:\n",
        "            feedback1 = give_feedback(player2_code, guess1)\n",
        "            if feedback1:\n",
        "                print(\"📝 Feedback for Player 1:\", \"; \".join(feedback1))\n",
        "            else:\n",
        "                print(\"❌ No digits matched in the correct position.\")\n",
        "\n",
        "        print(\"-\"*50)\n",
        "\n",
        "        # Player 2's turn to guess Player 1's code\n",
        "        guess2 = get_valid_guess(\"Player 2\", code_length)\n",
        "        if guess2 == player1_code:\n",
        "            print(\"🎉 Player 2 has cracked Player 1's code!\")\n",
        "            print(f\"🏆 Player 2 wins in {attempts} rounds!\")\n",
        "            break\n",
        "        else:\n",
        "            feedback2 = give_feedback(player1_code, guess2)\n",
        "            if feedback2:\n",
        "                print(\"📝 Feedback for Player 2:\", \"; \".join(feedback2))\n",
        "            else:\n",
        "                print(\"❌ No digits matched in the correct position.\")\n",
        "\n",
        "        print(\"=\"*50)\n",
        "\n",
        "if __name__ == \"__main__\":\n",
        "    main()\n",
        "\n",
        "# ye code h jisme crack krna h code ye btaoo ki m iska ui kse bna skta hu or ek perfect game kse bna skta hu isko full roadmap step by step chahiye"
      ]
    }
  ]
}